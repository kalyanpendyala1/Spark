{
 "cells": [
  {
   "cell_type": "markdown",
   "metadata": {},
   "source": [
    "# Spark"
   ]
  },
  {
   "cell_type": "markdown",
   "metadata": {},
   "source": [
    "- Create SparkSession\n",
    "\n",
    "- Read the parquet files stored in S3 using spark.read method.\n",
    "\n",
    "- Create SparkDataFrames out of those parquet files."
   ]
  },
  {
   "cell_type": "code",
   "execution_count": 1,
   "metadata": {},
   "outputs": [],
   "source": [
    "# parqDF = spark.read.paraquet('parquet_files')"
   ]
  },
  {
   "cell_type": "markdown",
   "metadata": {},
   "source": []
  },
  {
   "cell_type": "markdown",
   "metadata": {},
   "source": [
    "\n"
   ]
  },
  {
   "cell_type": "markdown",
   "metadata": {},
   "source": []
  },
  {
   "cell_type": "markdown",
   "metadata": {},
   "source": [
    "#### Map\n",
    "\n"
   ]
  },
  {
   "cell_type": "code",
   "execution_count": null,
   "metadata": {},
   "outputs": [],
   "source": []
  },
  {
   "cell_type": "markdown",
   "metadata": {},
   "source": [
    "**Spark Dataframes are standard way of using spark Machine Learning Capabilities.**\n",
    "\n",
    "SQLContext allows the creation of **DataFrames.**\n",
    "\n",
    "\n",
    "We use **DataFrameReader** to read data from different sources like cassandra, Redshift, ElasticSearch and salesforce. It can read different formats of data like Parquet, JSON, ORC, Avro, XML. We use **DataFrameWriter** to write back to these sources.\n",
    "\n",
    "If the data is structured or semi-structured in row/column format we should use DataFrameReader or DataFrameWriter. When you dont have schema or data source doesnt provide spark connector, we use RDDs.\n",
    "\n",
    "\n",
    "For a typical DataFrameReader we have four methods,\n",
    "\n",
    "- format\n",
    "\n",
    "- option\n",
    "\n",
    "- schema\n",
    "\n",
    "- load\n",
    "\n",
    "For a typical DataFrameWriter we have four methods,\n",
    "\n",
    "- format\n",
    "\n",
    "- option\n",
    "\n",
    "- mode\n",
    "\n",
    "- save"
   ]
  },
  {
   "cell_type": "code",
   "execution_count": 2,
   "metadata": {},
   "outputs": [
    {
     "data": {
      "text/plain": [
       "\"\\n\\nspark.read.csv('path')\\nspark.read.format('csv').load('path')\\n\\nspark.read.json('path')\\nspark.read.format('json').load('path')\\n\\nspark.read.parquet('path')\\nspark.read.format('parquet').load('path')\\n\\nspark.read.text('path')\\n\\n\""
      ]
     },
     "execution_count": 2,
     "metadata": {},
     "output_type": "execute_result"
    }
   ],
   "source": [
    "# loading different files to dataframe reader\n",
    "\"\"\"\n",
    "\n",
    "spark.read.csv('path')\n",
    "spark.read.format('csv').load('path')\n",
    "\n",
    "spark.read.json('path')\n",
    "spark.read.format('json').load('path')\n",
    "\n",
    "spark.read.parquet('path')\n",
    "spark.read.format('parquet').load('path')\n",
    "\n",
    "spark.read.text('path')\n",
    "\n",
    "\"\"\""
   ]
  },
  {
   "cell_type": "code",
   "execution_count": 3,
   "metadata": {},
   "outputs": [
    {
     "ename": "NameError",
     "evalue": "name 'spark' is not defined",
     "output_type": "error",
     "traceback": [
      "\u001b[1;31m---------------------------------------------------------------------------\u001b[0m",
      "\u001b[1;31mNameError\u001b[0m                                 Traceback (most recent call last)",
      "\u001b[1;32m<ipython-input-3-cad712566b4e>\u001b[0m in \u001b[0;36m<module>\u001b[1;34m\u001b[0m\n\u001b[1;32m----> 1\u001b[1;33m \u001b[0mdf\u001b[0m \u001b[1;33m=\u001b[0m \u001b[0mspark\u001b[0m\u001b[1;33m.\u001b[0m\u001b[0mread\u001b[0m\u001b[1;33m.\u001b[0m\u001b[0mcsv\u001b[0m\u001b[1;33m(\u001b[0m\u001b[1;34m'datasets/pokemon_data.csv'\u001b[0m\u001b[1;33m)\u001b[0m\u001b[1;33m\u001b[0m\u001b[1;33m\u001b[0m\u001b[0m\n\u001b[0m\u001b[0;32m      2\u001b[0m \u001b[0mdf\u001b[0m\u001b[1;33m.\u001b[0m\u001b[0mdtypes\u001b[0m\u001b[1;33m\u001b[0m\u001b[1;33m\u001b[0m\u001b[0m\n",
      "\u001b[1;31mNameError\u001b[0m: name 'spark' is not defined"
     ]
    }
   ],
   "source": [
    "df = spark.read.csv('datasets/pokemon_data.csv')\n",
    "df.dtypes"
   ]
  },
  {
   "cell_type": "code",
   "execution_count": null,
   "metadata": {},
   "outputs": [],
   "source": [
    "df3 = spark.read.format('csv').load('datasets/pokemon_data.csv')\n",
    "df3.dtypes"
   ]
  },
  {
   "cell_type": "code",
   "execution_count": null,
   "metadata": {},
   "outputs": [],
   "source": [
    "rdd = sc.textFile('datasets/pokemon_data.csv')\n",
    "df2 = spark.read.csv(rdd)\n",
    "df2.dtypes"
   ]
  },
  {
   "cell_type": "code",
   "execution_count": null,
   "metadata": {},
   "outputs": [],
   "source": [
    "df = spark.read.text('datasets/days.txt')"
   ]
  },
  {
   "cell_type": "code",
   "execution_count": null,
   "metadata": {},
   "outputs": [],
   "source": []
  },
  {
   "cell_type": "code",
   "execution_count": null,
   "metadata": {},
   "outputs": [],
   "source": []
  },
  {
   "cell_type": "code",
   "execution_count": null,
   "metadata": {},
   "outputs": [],
   "source": []
  },
  {
   "cell_type": "code",
   "execution_count": null,
   "metadata": {},
   "outputs": [],
   "source": []
  },
  {
   "cell_type": "code",
   "execution_count": null,
   "metadata": {},
   "outputs": [],
   "source": []
  }
 ],
 "metadata": {
  "kernelspec": {
   "display_name": "Python 3",
   "language": "python",
   "name": "python3"
  },
  "language_info": {
   "codemirror_mode": {
    "name": "ipython",
    "version": 3
   },
   "file_extension": ".py",
   "mimetype": "text/x-python",
   "name": "python",
   "nbconvert_exporter": "python",
   "pygments_lexer": "ipython3",
   "version": "3.7.4"
  }
 },
 "nbformat": 4,
 "nbformat_minor": 2
}
